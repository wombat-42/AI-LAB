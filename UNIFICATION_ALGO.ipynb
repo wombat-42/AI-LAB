{
  "nbformat": 4,
  "nbformat_minor": 0,
  "metadata": {
    "colab": {
      "provenance": [],
      "authorship_tag": "ABX9TyMcoeMaWFbI3VWIA0G7HPmd",
      "include_colab_link": true
    },
    "kernelspec": {
      "name": "python3",
      "display_name": "Python 3"
    },
    "language_info": {
      "name": "python"
    }
  },
  "cells": [
    {
      "cell_type": "markdown",
      "metadata": {
        "id": "view-in-github",
        "colab_type": "text"
      },
      "source": [
        "<a href=\"https://colab.research.google.com/github/wombat-42/AI-LAB/blob/main/UNIFICATION_ALGO.ipynb\" target=\"_parent\"><img src=\"https://colab.research.google.com/assets/colab-badge.svg\" alt=\"Open In Colab\"/></a>"
      ]
    },
    {
      "cell_type": "code",
      "source": [
        "def unify(x, y, substitution={}):\n",
        "    \"\"\"\n",
        "    Unifies two FOL expressions (x and y) and returns the substitution if possible.\n",
        "    \"\"\"\n",
        "    if substitution is None:\n",
        "        return None\n",
        "    elif x == y:\n",
        "        return substitution\n",
        "    elif isinstance(x, str) and x.islower(): # Variable\n",
        "        return unify_variable(x, y, substitution)\n",
        "    elif isinstance(y, str) and y.islower(): # Variable\n",
        "        return unify_variable(y, x, substitution)\n",
        "    elif isinstance(x, list) and isinstance(y, list) and len(x) == len(y): # Functions or Predicates\n",
        "        if not x or not y:\n",
        "            return substitution\n",
        "        return unify(x[1:], y[1:], unify(x[0], y[0], substitution))\n",
        "    else:\n",
        "        return None\n",
        "\n",
        "def unify_variable(var, x, substitution):\n",
        "    \"\"\"\n",
        "    Handles unification when one of the terms is a variable.\n",
        "    \"\"\"\n",
        "    if var in substitution:\n",
        "        return unify(substitution[var], x, substitution)\n",
        "    elif x in substitution:\n",
        "        return unify(var, substitution[x], substitution)\n",
        "    elif occurs_check(var, x):\n",
        "        return None\n",
        "    else:\n",
        "        substitution[var] = x\n",
        "        return substitution\n",
        "\n",
        "def occurs_check(var, x):\n",
        "    \"\"\"\n",
        "    Checks if var occurs in x to prevent infinite loops.\n",
        "    \"\"\"\n",
        "    if var == x:\n",
        "        return True\n",
        "    elif isinstance(x, list):\n",
        "        return any(occurs_check(var, subterm) for subterm in x)\n",
        "    return False\n",
        "\n",
        "def evaluate(exp1, exp2):\n",
        "    if len(exp1[2]) > 1:\n",
        "        if exp1[2][0] != exp2[2][0]:\n",
        "          return None\n",
        "    result = unify(expression1, expression2, {})\n",
        "    return result\n",
        "\n",
        "# Example\n",
        "expression1 = [\"knows\", \"x\", \"y\"]\n",
        "expression2 = [\"knows\", \"john\", \"mary\"]\n",
        "result = evaluate(expression1, expression2)\n",
        "print(\"Unification Result:\", result)"
      ],
      "metadata": {
        "colab": {
          "base_uri": "https://localhost:8080/"
        },
        "id": "5JvY92by29kz",
        "outputId": "01bc8d47-9b14-421a-dd91-22c54fc9b9b5"
      },
      "execution_count": 2,
      "outputs": [
        {
          "output_type": "stream",
          "name": "stdout",
          "text": [
            "Unification Result: {'x': 'john', 'y': 'mary'}\n"
          ]
        }
      ]
    }
  ]
}