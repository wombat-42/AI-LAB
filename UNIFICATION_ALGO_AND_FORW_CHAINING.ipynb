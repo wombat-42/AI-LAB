{
  "nbformat": 4,
  "nbformat_minor": 0,
  "metadata": {
    "colab": {
      "provenance": [],
      "authorship_tag": "ABX9TyO/1qIBclPQ+bOpEHlaF/Um",
      "include_colab_link": true
    },
    "kernelspec": {
      "name": "python3",
      "display_name": "Python 3"
    },
    "language_info": {
      "name": "python"
    }
  },
  "cells": [
    {
      "cell_type": "markdown",
      "metadata": {
        "id": "view-in-github",
        "colab_type": "text"
      },
      "source": [
        "<a href=\"https://colab.research.google.com/github/wombat-42/AI-LAB/blob/main/UNIFICATION_ALGO_AND_FORW_CHAINING.ipynb\" target=\"_parent\"><img src=\"https://colab.research.google.com/assets/colab-badge.svg\" alt=\"Open In Colab\"/></a>"
      ]
    },
    {
      "cell_type": "code",
      "source": [
        "def unify(x, y, substitution={}):\n",
        "    \"\"\"\n",
        "    Unifies two FOL expressions (x and y) and returns the substitution if possible.\n",
        "    \"\"\"\n",
        "    if substitution is None:\n",
        "        return None\n",
        "    elif x == y:\n",
        "        return substitution\n",
        "    elif isinstance(x, str) and x.islower(): # Variable\n",
        "        return unify_variable(x, y, substitution)\n",
        "    elif isinstance(y, str) and y.islower(): # Variable\n",
        "        return unify_variable(y, x, substitution)\n",
        "    elif isinstance(x, list) and isinstance(y, list) and len(x) == len(y): # Functions or Predicates\n",
        "        if not x or not y:\n",
        "            return substitution\n",
        "        return unify(x[1:], y[1:], unify(x[0], y[0], substitution))\n",
        "    else:\n",
        "        return None\n",
        "\n",
        "def unify_variable(var, x, substitution):\n",
        "    \"\"\"\n",
        "    Handles unification when one of the terms is a variable.\n",
        "    \"\"\"\n",
        "    if var in substitution:\n",
        "        return unify(substitution[var], x, substitution)\n",
        "    elif x in substitution:\n",
        "        return unify(var, substitution[x], substitution)\n",
        "    elif occurs_check(var, x):\n",
        "        return None\n",
        "    else:\n",
        "        substitution[var] = x\n",
        "        return substitution\n",
        "\n",
        "def occurs_check(var, x):\n",
        "    \"\"\"\n",
        "    Checks if var occurs in x to prevent infinite loops.\n",
        "    \"\"\"\n",
        "    if var == x:\n",
        "        return True\n",
        "    elif isinstance(x, list):\n",
        "        return any(occurs_check(var, subterm) for subterm in x)\n",
        "    return False\n",
        "\n",
        "def evaluate(exp1, exp2):\n",
        "    if len(exp1[2]) > 1:\n",
        "        if exp1[2][0] != exp2[2][0]:\n",
        "          return None\n",
        "    result = unify(expression1, expression2, {})\n",
        "    return result\n",
        "\n",
        "# Example\n",
        "expression1 = [\"knows\", \"x\", \"y\"]\n",
        "expression2 = [\"knows\", \"john\", \"mary\"]\n",
        "result = evaluate(expression1, expression2)\n",
        "print(\"Unification Result:\", result)"
      ],
      "metadata": {
        "colab": {
          "base_uri": "https://localhost:8080/"
        },
        "id": "5JvY92by29kz",
        "outputId": "01bc8d47-9b14-421a-dd91-22c54fc9b9b5"
      },
      "execution_count": null,
      "outputs": [
        {
          "output_type": "stream",
          "name": "stdout",
          "text": [
            "Unification Result: {'x': 'john', 'y': 'mary'}\n"
          ]
        }
      ]
    },
    {
      "cell_type": "code",
      "source": [
        "# Define the Fact class\n",
        "class Fact:\n",
        "    def __init__(self, name, *args):\n",
        "        self.name = name\n",
        "        self.args = args\n",
        "\n",
        "    def __str__(self):\n",
        "        return f\"{self.name}({', '.join(map(str, self.args))})\"\n",
        "\n",
        "    def __eq__(self, other):\n",
        "        return self.name == other.name and self.args == other.args\n",
        "\n",
        "    def __hash__(self):\n",
        "        return hash((self.name, self.args))\n",
        "\n",
        "# Representing constants\n",
        "A = \"A\"  # Country A\n",
        "Robert = \"Robert\"  # Robert\n",
        "\n",
        "# Initial facts\n",
        "facts = set([\n",
        "    Fact(\"American\", Robert),\n",
        "    Fact(\"Enemy\", A, \"America\"),\n",
        "    Fact(\"Missile\", \"T1\"),  # We instantiate the missile T1\n",
        "    Fact(\"Owns\", A, \"T1\"),\n",
        "    Fact(\"Weapon\", \"T1\"),  # Missiles are weapons\n",
        "    Fact(\"Sells\", Robert, \"T1\", A),  # Robert sells missile to A\n",
        "    Fact(\"Hostile\", A)  # A is hostile because it's an enemy of America\n",
        "])\n",
        "\n",
        "# Inference rules\n",
        "def apply_rules(facts):\n",
        "    new_facts = set()\n",
        "\n",
        "    # Rule: Missiles are weapons\n",
        "    for fact in facts:\n",
        "        if fact.name == \"Missile\":\n",
        "            new_facts.add(Fact(\"Weapon\", *fact.args))\n",
        "\n",
        "    # Rule: If American(p) ∧ Weapon(q) ∧ Sells(p, q, r) ∧ Hostile(r) ⇒ Criminal(p)\n",
        "    for fact1 in facts:\n",
        "        if fact1.name == \"American\":\n",
        "            p = fact1.args[0]  # p is the person\n",
        "            for fact2 in facts:\n",
        "                if fact2.name == \"Weapon\":\n",
        "                    q = fact2.args[0]  # q is the weapon\n",
        "                    for fact3 in facts:\n",
        "                        if fact3.name == \"Sells\" and fact3.args[0] == p and fact3.args[1] == q:\n",
        "                            r = fact3.args[2]  # r is the country\n",
        "                            for fact4 in facts:\n",
        "                                if fact4.name == \"Hostile\" and fact4.args[0] == r:\n",
        "                                    new_facts.add(Fact(\"Criminal\", p))\n",
        "\n",
        "    return new_facts\n",
        "\n",
        "# Forward chaining\n",
        "def forward_chaining(facts):\n",
        "    inferred_facts = set(facts)  # Start with the initial facts\n",
        "    while True:\n",
        "        new_facts = apply_rules(inferred_facts) - inferred_facts\n",
        "        if not new_facts:  # No new facts inferred, stop the loop\n",
        "            break\n",
        "        inferred_facts.update(new_facts)\n",
        "    return inferred_facts\n",
        "\n",
        "# Run forward chaining\n",
        "final_facts = forward_chaining(facts)\n",
        "\n",
        "# Check if \"Criminal(Robert)\" is in the final facts\n",
        "if Fact(\"Criminal\", Robert) in final_facts:\n",
        "    print(\"Criminal(Robert)\")\n",
        "else:\n",
        "    print(\"Not Criminal\")\n"
      ],
      "metadata": {
        "id": "up7Li3S_2Mz5",
        "outputId": "629f1df0-e0a8-4b24-c45b-c12199b05d53",
        "colab": {
          "base_uri": "https://localhost:8080/"
        }
      },
      "execution_count": 1,
      "outputs": [
        {
          "output_type": "stream",
          "name": "stdout",
          "text": [
            "Criminal(Robert)\n"
          ]
        }
      ]
    },
    {
      "cell_type": "code",
      "source": [],
      "metadata": {
        "id": "Z_B7jQqN2-aP"
      },
      "execution_count": null,
      "outputs": []
    }
  ]
}